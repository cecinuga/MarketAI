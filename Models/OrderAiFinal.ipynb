{
 "cells": [
  {
   "cell_type": "code",
   "execution_count": 1,
   "metadata": {},
   "outputs": [
    {
     "name": "stderr",
     "output_type": "stream",
     "text": [
      "c:\\Users\\Utente\\AppData\\Local\\Programs\\Python\\Python39\\lib\\site-packages\\scipy\\__init__.py:146: UserWarning: A NumPy version >=1.16.5 and <1.23.0 is required for this version of SciPy (detected version 1.24.1\n",
      "  warnings.warn(f\"A NumPy version >={np_minversion} and <{np_maxversion}\"\n"
     ]
    }
   ],
   "source": [
    "import os\n",
    "import copy\n",
    "import numpy as np\n",
    "import tensorflow as tf\n",
    "import matplotlib.pyplot as plt\n",
    "from sklearn.datasets import fetch_california_housing, make_regression\n",
    "from sklearn.model_selection import train_test_split\n",
    "housing = fetch_california_housing()\n",
    "os.environ['TF_CPP_MIN_LOG_LEVEL'] = '3'  \n",
    "\n",
    "X_train, X_test, y_train, y_test = train_test_split(housing.data, housing.target, test_size=0.98, random_state=2)\n",
    "XR, yR = make_regression(n_samples=100, n_features=2, noise=0, random_state=5)\n",
    "X_train2, X_test2, y_train2, y_test2 = train_test_split(XR, yR, test_size=0.20, random_state=2)\n",
    "\n",
    "def normalize_dataset(X):\n",
    "    return tf.keras.utils.normalize(X)"
   ]
  },
  {
   "cell_type": "code",
   "execution_count": 17,
   "metadata": {},
   "outputs": [
    {
     "name": "stdout",
     "output_type": "stream",
     "text": [
      "tf.Tensor(\n",
      "[[ 7.63157356e-01 -3.33903513e-01]\n",
      " [ 3.68625643e-01 -4.78704138e-01]\n",
      " [ 4.63989054e+00  2.73544567e-01]\n",
      " [ 4.37465216e-01 -6.01878426e-03]\n",
      " [-5.64168816e-02  4.81583884e-01]\n",
      " [ 2.75573790e-02  3.46293520e-01]\n",
      " [ 3.13854988e-02 -5.52448581e-02]\n",
      " [ 6.38810304e-01  8.35957976e-02]\n",
      " [ 2.26540988e-01  9.75344934e-02]\n",
      " [-1.57187509e-02  3.81434312e-02]\n",
      " [ 2.30949782e-01 -2.57217869e-01]\n",
      " [ 1.22207423e+00  8.52512608e-02]\n",
      " [ 7.75335434e-01  7.04126915e-01]\n",
      " [ 2.71752685e-01 -3.33456044e-01]\n",
      " [ 1.18625596e-01  4.76278927e-02]\n",
      " [ 3.41435758e+00  1.40816846e+00]\n",
      " [ 5.10410288e+00 -4.30880482e-01]\n",
      " [-4.98817648e-02  2.39693001e-01]\n",
      " [ 2.08505616e+00  6.59597438e-01]\n",
      " [ 7.46805778e-02 -1.33370159e-01]\n",
      " [ 1.54747280e+00  9.65034575e-02]\n",
      " [ 1.89266328e+00  2.04019924e-01]\n",
      " [ 3.83494523e-01  5.06605095e-01]\n",
      " [ 5.87800272e-01  1.85970906e+00]\n",
      " [-1.51359085e-01  1.00360555e+00]\n",
      " [ 1.50619231e+00 -1.42749798e+00]\n",
      " [ 1.12030273e-01 -1.01318596e-01]\n",
      " [ 6.84250529e-02  1.68875889e-01]\n",
      " [ 6.24384332e-01  4.53853401e-01]\n",
      " [ 1.17189859e+00  1.31129139e-01]\n",
      " [ 5.47353623e-01 -4.77137265e-01]\n",
      " [-6.62088625e-02  1.59370977e-01]\n",
      " [ 6.65831231e-02 -6.76843068e-02]\n",
      " [ 5.49488575e-01  6.43549419e-01]\n",
      " [ 2.39421011e-01  1.65786964e-01]\n",
      " [ 1.13858265e-02  7.74404334e-02]\n",
      " [ 2.59917788e-01  1.95517671e-01]\n",
      " [ 1.36237590e-01 -2.14228462e-01]\n",
      " [ 4.24291683e-01  1.00723619e+00]\n",
      " [ 1.98815359e+00  1.20743479e+00]\n",
      " [ 3.74584902e-01 -4.18054365e-01]\n",
      " [ 4.07023364e-02  4.62716061e-01]\n",
      " [ 2.68212806e-01  1.02458456e-01]\n",
      " [ 4.29120165e-02  6.30077589e-01]\n",
      " [ 8.77219934e-02 -1.34896085e-01]\n",
      " [ 5.57568020e-01  1.91535684e-01]\n",
      " [ 2.29144787e-01  8.56029412e-01]\n",
      " [ 5.40644120e-02  2.06038270e-01]\n",
      " [-7.56799508e-03  7.32397415e-02]\n",
      " [ 4.15991233e-01  5.20497658e-01]\n",
      " [ 5.27186751e+00 -1.88035316e+00]\n",
      " [ 3.75886878e-01 -2.31696954e-01]\n",
      " [ 5.30187692e-02 -1.39917362e-02]\n",
      " [-2.15327370e-01  8.30737020e-01]\n",
      " [ 2.02652421e-01  3.93679061e-01]\n",
      " [ 2.50289043e-01 -2.42630299e-01]\n",
      " [ 1.83252942e-01 -2.46632666e-01]\n",
      " [ 1.16524054e+00  8.46639577e-01]\n",
      " [ 9.63567485e-02  3.02879562e-01]\n",
      " [ 1.02485098e-01 -1.06465158e-01]\n",
      " [ 1.18154525e-02  4.59128681e-02]\n",
      " [ 5.34762884e-01  9.31333552e-01]\n",
      " [ 2.83154357e-01 -1.52964482e-01]\n",
      " [ 1.63403517e+00  2.17931933e-02]\n",
      " [ 3.22653543e-02  2.21823719e-01]\n",
      " [ 1.85020091e-01 -1.48213519e-01]\n",
      " [ 3.75643960e-01  7.98189768e-01]\n",
      " [ 9.21708047e-03 -5.14120073e-04]\n",
      " [ 2.27709923e+00  2.16455741e+00]\n",
      " [ 1.13830575e-01 -2.60198114e-02]\n",
      " [ 4.51200000e+00 -6.34433781e-01]\n",
      " [ 1.62669188e-02  1.45303584e-01]\n",
      " [ 1.69016224e+00  7.93660585e-01]\n",
      " [ 6.42316694e-01  1.98075115e-01]\n",
      " [ 2.64109167e+00  9.62268352e-01]\n",
      " [-6.81049713e-02  1.46767333e-01]\n",
      " [ 5.29791575e-01  4.41770898e-01]\n",
      " [ 1.54146751e+00  2.87357642e+00]\n",
      " [ 5.03176538e-02 -9.13970426e-03]\n",
      " [ 4.65224032e+00  1.20942209e-01]], shape=(80, 2), dtype=float64)\n"
     ]
    }
   ],
   "source": [
    "class LinearRegressor(tf.Module):\n",
    "    def __init__(self, X, y, epochs=100, lr=0.001):\n",
    "        self.X = X\n",
    "        self.lr = lr\n",
    "        self.y = y\n",
    "        self.optimizer = tf.keras.optimizers.Adam(lr)\n",
    "        self.mse = tf.keras.metrics.MeanSquaredError()\n",
    "        self.accuracy = tf.keras.metrics.MeanSquaredLogarithmicError()\n",
    "        self.precision = tf.keras.metrics.Precision()\n",
    "    \n",
    "    @tf.function\n",
    "    def train_step(self):\n",
    "        return tf.transpose(tf.multiply(tf.matmul(tf.linalg.inv(tf.matmul(tf.transpose(self.X), self.X)), tf.transpose(self.X)), self.y))\n",
    "\n",
    "model = LinearRegressor(X_train2, y_train2, 1, 0.001)\n",
    "print(model.train_step())\n"
   ]
  },
  {
   "cell_type": "code",
   "execution_count": null,
   "metadata": {},
   "outputs": [],
   "source": []
  }
 ],
 "metadata": {
  "kernelspec": {
   "display_name": "Python 3",
   "language": "python",
   "name": "python3"
  },
  "language_info": {
   "codemirror_mode": {
    "name": "ipython",
    "version": 3
   },
   "file_extension": ".py",
   "mimetype": "text/x-python",
   "name": "python",
   "nbconvert_exporter": "python",
   "pygments_lexer": "ipython3",
   "version": "3.9.7"
  },
  "orig_nbformat": 4,
  "vscode": {
   "interpreter": {
    "hash": "1cce27c8212bf6c5aa96f33a3d1153887721b66c5c8cb9adeaa83cce09196b75"
   }
  }
 },
 "nbformat": 4,
 "nbformat_minor": 2
}
