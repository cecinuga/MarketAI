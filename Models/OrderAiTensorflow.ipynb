{
 "cells": [
  {
   "cell_type": "code",
   "execution_count": 1,
   "metadata": {},
   "outputs": [
    {
     "name": "stderr",
     "output_type": "stream",
     "text": [
      "c:\\Users\\Utente\\AppData\\Local\\Programs\\Python\\Python39\\lib\\site-packages\\scipy\\__init__.py:146: UserWarning: A NumPy version >=1.16.5 and <1.23.0 is required for this version of SciPy (detected version 1.24.1\n",
      "  warnings.warn(f\"A NumPy version >={np_minversion} and <{np_maxversion}\"\n"
     ]
    },
    {
     "name": "stdout",
     "output_type": "stream",
     "text": [
      "WARNING:tensorflow:From C:\\Users\\Utente\\AppData\\Local\\Temp\\ipykernel_10568\\3616534218.py:10: is_gpu_available (from tensorflow.python.framework.test_util) is deprecated and will be removed in a future version.\n",
      "Instructions for updating:\n",
      "Use `tf.config.list_physical_devices('GPU')` instead.\n",
      "False\n"
     ]
    }
   ],
   "source": [
    "import numpy as np\n",
    "import tensorflow as tf\n",
    "import matplotlib.pyplot as plt\n",
    "from sklearn.datasets import fetch_california_housing\n",
    "from sklearn.model_selection import train_test_split\n",
    "from tensorflow.python.ops.numpy_ops import np_config\n",
    "np_config.enable_numpy_behavior()\n",
    "\n",
    "housing = fetch_california_housing()\n",
    "print(tf.test.is_gpu_available())"
   ]
  },
  {
   "cell_type": "code",
   "execution_count": 120,
   "metadata": {},
   "outputs": [
    {
     "ename": "InvalidArgumentError",
     "evalue": "{{function_node __wrapped__MatMul_device_/job:localhost/replica:0/task:0/device:CPU:0}} In[0] and In[1] has different ndims: [4128,8] vs. [8] [Op:MatMul]",
     "output_type": "error",
     "traceback": [
      "\u001b[1;31m---------------------------------------------------------------------------\u001b[0m",
      "\u001b[1;31mInvalidArgumentError\u001b[0m                      Traceback (most recent call last)",
      "Cell \u001b[1;32mIn[120], line 36\u001b[0m\n\u001b[0;32m     33\u001b[0m X_train, X_test, y_train, y_test \u001b[39m=\u001b[39m train_test_split(housing\u001b[39m.\u001b[39mdata, housing\u001b[39m.\u001b[39mtarget, test_size\u001b[39m=\u001b[39m\u001b[39m0.8\u001b[39m)\n\u001b[0;32m     35\u001b[0m model \u001b[39m=\u001b[39m MLPLinearRegressor()\n\u001b[1;32m---> 36\u001b[0m model\u001b[39m.\u001b[39;49minitialize(X_train, y_train)\n\u001b[0;32m     37\u001b[0m model\u001b[39m.\u001b[39mtrain()\n",
      "Cell \u001b[1;32mIn[120], line 23\u001b[0m, in \u001b[0;36mMLPLinearRegressor.initialize\u001b[1;34m(self, X, y)\u001b[0m\n\u001b[0;32m     21\u001b[0m \u001b[39mfor\u001b[39;00m l \u001b[39min\u001b[39;00m \u001b[39mrange\u001b[39m(\u001b[39m1\u001b[39m,\u001b[39mself\u001b[39m\u001b[39m.\u001b[39mn_layers\u001b[39m+\u001b[39m\u001b[39m1\u001b[39m):\n\u001b[0;32m     22\u001b[0m     \u001b[39mif\u001b[39;00m l\u001b[39m-\u001b[39m\u001b[39m1\u001b[39m \u001b[39m==\u001b[39m \u001b[39m0\u001b[39m:\n\u001b[1;32m---> 23\u001b[0m         \u001b[39mself\u001b[39m\u001b[39m.\u001b[39mactivation[l\u001b[39m-\u001b[39m\u001b[39m1\u001b[39m] \u001b[39m=\u001b[39m [tf\u001b[39m.\u001b[39mmath\u001b[39m.\u001b[39msigmoid(tf\u001b[39m.\u001b[39mmatmul(X, tf\u001b[39m.\u001b[39mtranspose(\u001b[39mself\u001b[39m\u001b[39m.\u001b[39mf_weights[l\u001b[39m-\u001b[39m\u001b[39m1\u001b[39m][n])) \u001b[39m+\u001b[39m \u001b[39mself\u001b[39m\u001b[39m.\u001b[39mbias[l\u001b[39m-\u001b[39m\u001b[39m1\u001b[39m]) \u001b[39mfor\u001b[39;00m n \u001b[39min\u001b[39;00m \u001b[39mrange\u001b[39m(\u001b[39mself\u001b[39m\u001b[39m.\u001b[39mn_neurons)]\n\u001b[0;32m     24\u001b[0m     \u001b[39melse\u001b[39;00m:\n\u001b[0;32m     25\u001b[0m         \u001b[39mself\u001b[39m\u001b[39m.\u001b[39mactivation[l\u001b[39m-\u001b[39m\u001b[39m1\u001b[39m] \u001b[39m=\u001b[39m [tf\u001b[39m.\u001b[39mmath\u001b[39m.\u001b[39msigmoid(tf\u001b[39m.\u001b[39mmatmul(\u001b[39mself\u001b[39m\u001b[39m.\u001b[39mactivation[l\u001b[39m-\u001b[39m\u001b[39m2\u001b[39m][n], tf\u001b[39m.\u001b[39mtranspose(\u001b[39mself\u001b[39m\u001b[39m.\u001b[39mh_weights[l\u001b[39m-\u001b[39m\u001b[39m1\u001b[39m][n])) \u001b[39m+\u001b[39m \u001b[39mself\u001b[39m\u001b[39m.\u001b[39mbias[l]) \u001b[39mfor\u001b[39;00m n \u001b[39min\u001b[39;00m \u001b[39mrange\u001b[39m(\u001b[39mself\u001b[39m\u001b[39m.\u001b[39mn_neurons)]\n",
      "Cell \u001b[1;32mIn[120], line 23\u001b[0m, in \u001b[0;36m<listcomp>\u001b[1;34m(.0)\u001b[0m\n\u001b[0;32m     21\u001b[0m \u001b[39mfor\u001b[39;00m l \u001b[39min\u001b[39;00m \u001b[39mrange\u001b[39m(\u001b[39m1\u001b[39m,\u001b[39mself\u001b[39m\u001b[39m.\u001b[39mn_layers\u001b[39m+\u001b[39m\u001b[39m1\u001b[39m):\n\u001b[0;32m     22\u001b[0m     \u001b[39mif\u001b[39;00m l\u001b[39m-\u001b[39m\u001b[39m1\u001b[39m \u001b[39m==\u001b[39m \u001b[39m0\u001b[39m:\n\u001b[1;32m---> 23\u001b[0m         \u001b[39mself\u001b[39m\u001b[39m.\u001b[39mactivation[l\u001b[39m-\u001b[39m\u001b[39m1\u001b[39m] \u001b[39m=\u001b[39m [tf\u001b[39m.\u001b[39mmath\u001b[39m.\u001b[39msigmoid(tf\u001b[39m.\u001b[39;49mmatmul(X, tf\u001b[39m.\u001b[39;49mtranspose(\u001b[39mself\u001b[39;49m\u001b[39m.\u001b[39;49mf_weights[l\u001b[39m-\u001b[39;49m\u001b[39m1\u001b[39;49m][n])) \u001b[39m+\u001b[39m \u001b[39mself\u001b[39m\u001b[39m.\u001b[39mbias[l\u001b[39m-\u001b[39m\u001b[39m1\u001b[39m]) \u001b[39mfor\u001b[39;00m n \u001b[39min\u001b[39;00m \u001b[39mrange\u001b[39m(\u001b[39mself\u001b[39m\u001b[39m.\u001b[39mn_neurons)]\n\u001b[0;32m     24\u001b[0m     \u001b[39melse\u001b[39;00m:\n\u001b[0;32m     25\u001b[0m         \u001b[39mself\u001b[39m\u001b[39m.\u001b[39mactivation[l\u001b[39m-\u001b[39m\u001b[39m1\u001b[39m] \u001b[39m=\u001b[39m [tf\u001b[39m.\u001b[39mmath\u001b[39m.\u001b[39msigmoid(tf\u001b[39m.\u001b[39mmatmul(\u001b[39mself\u001b[39m\u001b[39m.\u001b[39mactivation[l\u001b[39m-\u001b[39m\u001b[39m2\u001b[39m][n], tf\u001b[39m.\u001b[39mtranspose(\u001b[39mself\u001b[39m\u001b[39m.\u001b[39mh_weights[l\u001b[39m-\u001b[39m\u001b[39m1\u001b[39m][n])) \u001b[39m+\u001b[39m \u001b[39mself\u001b[39m\u001b[39m.\u001b[39mbias[l]) \u001b[39mfor\u001b[39;00m n \u001b[39min\u001b[39;00m \u001b[39mrange\u001b[39m(\u001b[39mself\u001b[39m\u001b[39m.\u001b[39mn_neurons)]\n",
      "File \u001b[1;32m~\\AppData\\Roaming\\Python\\Python39\\site-packages\\tensorflow\\python\\util\\traceback_utils.py:153\u001b[0m, in \u001b[0;36mfilter_traceback.<locals>.error_handler\u001b[1;34m(*args, **kwargs)\u001b[0m\n\u001b[0;32m    151\u001b[0m \u001b[39mexcept\u001b[39;00m \u001b[39mException\u001b[39;00m \u001b[39mas\u001b[39;00m e:\n\u001b[0;32m    152\u001b[0m   filtered_tb \u001b[39m=\u001b[39m _process_traceback_frames(e\u001b[39m.\u001b[39m__traceback__)\n\u001b[1;32m--> 153\u001b[0m   \u001b[39mraise\u001b[39;00m e\u001b[39m.\u001b[39mwith_traceback(filtered_tb) \u001b[39mfrom\u001b[39;00m \u001b[39mNone\u001b[39m\n\u001b[0;32m    154\u001b[0m \u001b[39mfinally\u001b[39;00m:\n\u001b[0;32m    155\u001b[0m   \u001b[39mdel\u001b[39;00m filtered_tb\n",
      "File \u001b[1;32m~\\AppData\\Roaming\\Python\\Python39\\site-packages\\tensorflow\\python\\framework\\ops.py:7215\u001b[0m, in \u001b[0;36mraise_from_not_ok_status\u001b[1;34m(e, name)\u001b[0m\n\u001b[0;32m   7213\u001b[0m \u001b[39mdef\u001b[39;00m \u001b[39mraise_from_not_ok_status\u001b[39m(e, name):\n\u001b[0;32m   7214\u001b[0m   e\u001b[39m.\u001b[39mmessage \u001b[39m+\u001b[39m\u001b[39m=\u001b[39m (\u001b[39m\"\u001b[39m\u001b[39m name: \u001b[39m\u001b[39m\"\u001b[39m \u001b[39m+\u001b[39m name \u001b[39mif\u001b[39;00m name \u001b[39mis\u001b[39;00m \u001b[39mnot\u001b[39;00m \u001b[39mNone\u001b[39;00m \u001b[39melse\u001b[39;00m \u001b[39m\"\u001b[39m\u001b[39m\"\u001b[39m)\n\u001b[1;32m-> 7215\u001b[0m   \u001b[39mraise\u001b[39;00m core\u001b[39m.\u001b[39m_status_to_exception(e) \u001b[39mfrom\u001b[39;00m \u001b[39mNone\u001b[39m\n",
      "\u001b[1;31mInvalidArgumentError\u001b[0m: {{function_node __wrapped__MatMul_device_/job:localhost/replica:0/task:0/device:CPU:0}} In[0] and In[1] has different ndims: [4128,8] vs. [8] [Op:MatMul]"
     ]
    }
   ],
   "source": [
    "class MLPLinearRegressor(object):\n",
    "    def __init__(self, lr=0.001, n_layers=3, n_neurons=3):\n",
    "        self.lr = 0.001\n",
    "        self.n_layers = n_layers\n",
    "        self.n_neurons = n_neurons\n",
    "        self.initialized = False\n",
    "\n",
    "    \n",
    "\n",
    "    def initialize(self, X, y):\n",
    "        def initialize(self, X, y):\n",
    "            n_samples, n_features = X.shape\n",
    "            n_output = y.shape[0]\n",
    "            self.activation = {}\n",
    "            normal_initiliazer = tf.random_normal_initializer(seed=0, mean=0.0, stddev=1.0)\n",
    "            XN = tf.keras.utils.normalize(X)\n",
    "            self.X = tf.constant(XN, name=\"X\", dtype=tf.double)\n",
    "            self.y = tf.constant(np.array(y).reshape(-1, 1), name=\"y\", dtype=tf.double)\n",
    "\n",
    "            self.f_weights = tf.Variable(normal_initiliazer([self.n_neurons, n_samples, n_features], dtype=tf.double), name=\"f_weights\", dtype=tf.double, trainable=True)\n",
    "            self.h_weights = tf.Variable(normal_initiliazer([self.n_layers, self.n_neurons, n_samples, n_output], dtype=tf.double), name=\"h_weights\", dtype=tf.double, trainable=True)\n",
    "            self.bias = tf.Variable([0.01 for l in range(self.n_layers)], name=\"bias\", dtype=tf.double, trainable=True)\n",
    "            \n",
    "            self.activation = tf.TensorArray(tf.double, size=0, dynamic_size=True, clear_after_read=False, tensor_array_name=\"Activation_Layers\")\n",
    "            self.activation.write(0, [tf.math.sigmoid(tf.matmul(X, tf.transpose(self.f_weights[n])) + self.bias[0]) for n in range(self.n_neurons)]).mark_used()\n",
    "            for l in range(1,self.n_layers-1):\n",
    "                self.activation.write(l, [tf.math.sigmoid(tf.matmul(np.array(self.activation.read(l-1)[n]), self.h_weights[l][n]) + self.bias[l]) for n in range(self.n_neurons)])\n",
    "            self.activation.write(self.n_layers-1, [tf.math.sigmoid(tf.matmul(self.activation.read(self.n_layers-2)[n], self.h_weights[self.n_layers-1][n]) + self.bias[self.n_layers-1]) for n in range(self.n_neurons)])\n",
    "\n",
    "\n",
    "            mean_weights = tf.reduce_mean(self.h_weights[self.n_layers-1], axis=0)\n",
    "            mean_activation = tf.reduce_mean(tf.reduce_mean(self.activation.read(self.n_layers-1), axis=0))\n",
    "\n",
    "            self.predicted = tf.math.sigmoid(tf.matmul(mean_activation.reshape(-1, 1), tf.transpose(mean_weights.reshape(-1, 1))) + self.bias[self.n_layers-1]).reshape(-1, 1)\n",
    "            #self.loss = lambda : 1/2 * tf.reduce_sum( tf.square((self.predicted - self.y)))\n",
    "            self.loss = lambda : tf.losses.mean_squared_error(self.predicted, y)\n",
    "            self.learning_rate = tf.keras.optimizers.schedules.ExponentialDecay(self.lr, 5, 0.85, name=\"Learning_Rate\")\n",
    "            self.optimizer = tf.compat.v1.train.AdamOptimizer(self.learning_rate).minimize(self.loss, var_list=[self.f_weights, self.h_weights, self.bias], name=\"Optimizer\")\n",
    "            self.corrects = tf.equal(self.predicted, y)\n",
    "            self.accuracy = tf.reduce_mean(tf.cast(self.corrects, tf.float32))\n",
    "            \n",
    "            print(self.loss)\n",
    "            print(self.corrects)\n",
    "            print(\"....-------------------------\")\n",
    "            print(self.predicted)\n",
    "            print(\"-------------------------------\")\n",
    "            print(y)\n",
    "\n",
    "            self.initialized = True\n",
    "\n",
    "    def train(self):\n",
    "        if self.initialized:\n",
    "            pass\n",
    "            \n",
    "X_train, X_test, y_train, y_test = train_test_split(housing.data, housing.target, test_size=0.8)\n",
    "\n",
    "model = MLPLinearRegressor()\n",
    "model.initialize(X_train, y_train)\n",
    "model.train()"
   ]
  },
  {
   "cell_type": "code",
   "execution_count": null,
   "metadata": {},
   "outputs": [],
   "source": []
  }
 ],
 "metadata": {
  "kernelspec": {
   "display_name": "Python 3",
   "language": "python",
   "name": "python3"
  },
  "language_info": {
   "codemirror_mode": {
    "name": "ipython",
    "version": 3
   },
   "file_extension": ".py",
   "mimetype": "text/x-python",
   "name": "python",
   "nbconvert_exporter": "python",
   "pygments_lexer": "ipython3",
   "version": "3.9.7"
  },
  "orig_nbformat": 4,
  "vscode": {
   "interpreter": {
    "hash": "1cce27c8212bf6c5aa96f33a3d1153887721b66c5c8cb9adeaa83cce09196b75"
   }
  }
 },
 "nbformat": 4,
 "nbformat_minor": 2
}
