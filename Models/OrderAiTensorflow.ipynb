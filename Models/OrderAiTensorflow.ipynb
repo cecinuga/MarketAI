{
 "cells": [
  {
   "cell_type": "code",
   "execution_count": 466,
   "metadata": {},
   "outputs": [],
   "source": [
    "import os\n",
    "import copy\n",
    "import numpy as np\n",
    "import tensorflow as tf\n",
    "import matplotlib.pyplot as plt\n",
    "from sklearn.datasets import fetch_california_housing, make_regression\n",
    "from sklearn.model_selection import train_test_split\n",
    "housing = fetch_california_housing()\n",
    "os.environ['TF_CPP_MIN_LOG_LEVEL'] = '3'  "
   ]
  },
  {
   "cell_type": "code",
   "execution_count": 488,
   "metadata": {},
   "outputs": [
    {
     "name": "stdout",
     "output_type": "stream",
     "text": [
      "WARNING:tensorflow:5 out of the last 5 calls to <function Layer.xavier_init at 0x00000208384E5430> triggered tf.function retracing. Tracing is expensive and the excessive number of tracings could be due to (1) creating @tf.function repeatedly in a loop, (2) passing tensors with different shapes, (3) passing Python objects instead of tensors. For (1), please define your @tf.function outside of the loop. For (2), @tf.function has reduce_retracing=True option that can avoid unnecessary retracing. For (3), please refer to https://www.tensorflow.org/guide/function#controlling_retracing and https://www.tensorflow.org/api_docs/python/tf/function for  more details.\n",
      "WARNING:tensorflow:6 out of the last 6 calls to <function Layer.xavier_init at 0x0000020839716CA0> triggered tf.function retracing. Tracing is expensive and the excessive number of tracings could be due to (1) creating @tf.function repeatedly in a loop, (2) passing tensors with different shapes, (3) passing Python objects instead of tensors. For (1), please define your @tf.function outside of the loop. For (2), @tf.function has reduce_retracing=True option that can avoid unnecessary retracing. For (3), please refer to https://www.tensorflow.org/guide/function#controlling_retracing and https://www.tensorflow.org/api_docs/python/tf/function for  more details.\n",
      "MeanSquaredError:  4304.25\n",
      "Accuracy:  0.023006624287328685\n",
      "Keras Accuracy:  5.663554\n",
      "Keras Precision:  1.0\n"
     ]
    },
    {
     "data": {
      "image/png": "[encoded data removed]",
      "text/plain": [
       "<Figure size 1000x600 with 1 Axes>"
      ]
     },
     "metadata": {},
     "output_type": "display_data"
    }
   ],
   "source": [
    "class Layer(tf.Module):\n",
    "    def __init__(self, n_features, n_output, neurons=30, activation=tf.identity, i=1):\n",
    "        self.neurons = neurons\n",
    "        self.activation = activation\n",
    "        self.build = False\n",
    "        self.normalized = False\n",
    "        self.index = i\n",
    "        self.weights = tf.Variable(self.xavier_init(shape=(n_features, self.neurons)), name=\"Weights\", dtype=tf.double, trainable=True )\n",
    "        self.bias = tf.Variable(tf.zeros(shape=1, dtype=tf.double), name=\"Bias\", dtype=tf.double, trainable=True )\n",
    "\n",
    "    @tf.function(reduce_retracing=True)\n",
    "    def xavier_init(self, shape):\n",
    "        in_dim, out_dim = shape\n",
    "        xavier_lim = tf.sqrt(6.)/tf.sqrt(tf.cast(in_dim + out_dim, tf.float32))\n",
    "        weight_vals = tf.cast(tf.random.uniform(shape=(in_dim, out_dim), \n",
    "                                        minval=-xavier_lim, maxval=xavier_lim, seed=22, dtype=tf.float32), dtype=tf.double)\n",
    "        return weight_vals\n",
    "\n",
    "    def __call__(self, X, y):\n",
    "        if self.index % 2 != 0:\n",
    "            z = tf.add(tf.matmul(X, self.weights), self.bias)\n",
    "        else:\n",
    "            z = tf.add(tf.matmul(X, tf.transpose(self.weights)), self.bias)\n",
    "\n",
    "        #print(X.shape,\"*\",self.weights.shape,\"+\",self.bias.shape, \"=\", z.shape)\n",
    "        return self.activation(z)\n",
    "\n",
    "    \n",
    "\n",
    "class MLPLinearRegressor(tf.Module):\n",
    "    def __init__(self, X, y, layers, lr=0.001):\n",
    "        self.X = X\n",
    "        self.y = y\n",
    "        self.layers = layers\n",
    "        self.optimizer = tf.keras.optimizers.Adam(lr)\n",
    "        self.mse = tf.keras.metrics.MeanSquaredError()\n",
    "        self.accuracy = tf.keras.metrics.MeanSquaredLogarithmicError()\n",
    "        self.precision = tf.keras.metrics.Precision()\n",
    "\n",
    "    @tf.function(reduce_retracing=True)\n",
    "    def accuracy_rrsse(self, predicted):\n",
    "        return tf.divide(tf.sqrt(\n",
    "            tf.divide(\n",
    "                tf.reduce_sum(tf.square(tf.abs((tf.subtract(predicted, tf.sigmoid(self.y)))))),\n",
    "                tf.reduce_sum(tf.square(tf.abs((tf.subtract(tf.reduce_mean(tf.sigmoid(self.y)), predicted)))))\n",
    "            )), len(predicted)\n",
    "        )\n",
    "\n",
    "    def normalize_dataset(self, X):\n",
    "        return tf.convert_to_tensor(tf.keras.utils.normalize(X))\n",
    "\n",
    "\n",
    "    @tf.function(reduce_retracing=True)\n",
    "    def loss(self, predicted):\n",
    "        #return 1/2 * tf.reduce_sum( tf.square(tf.subtract(tf.sigmoid(self.y), tf.squeeze(predicted))))\n",
    "        return tf.losses.mean_squared_error(self.y, predicted)\n",
    "\n",
    "    def calc_metrics(self, y_pred):\n",
    "        self.acc_rrsse = self.accuracy_rrsse(y_pred)\n",
    "        self.accuracy.update_state(self.y, self.y_pred)\n",
    "        self.precision.update_state(self.y, self.y_pred)\n",
    "        self.mse.update_state(self.y, self.y_pred)\n",
    "\n",
    "    def train_step(self, X, y):\n",
    "        for layer in self.layers:\n",
    "            X = layer(X, y)\n",
    "        return X\n",
    "           \n",
    "    def train(self, epochs=1, lr=0.001):\n",
    "        XN = self.normalize_dataset(self.X)\n",
    "        for e in range(epochs):\n",
    "            with tf.GradientTape(watch_accessed_variables=True, persistent=True) as tape:\n",
    "                self.y_pred = tf.squeeze(model.train_step(XN, self.y))\n",
    "                loss = self.loss(self.y_pred)\n",
    "            self.vars = [self.layers[0].weights, self.layers[1].weights, self.layers[2].weights, self.layers[0].bias, self.layers[1].bias]\n",
    "\n",
    "            grads = tape.gradient(loss, self.vars) \n",
    "            self.optimizer.apply_gradients(zip(grads, self.vars))\n",
    "        self.calc_metrics(self.y_pred)\n",
    "\n",
    "\n",
    "\n",
    "X_train, X_test, y_train, y_test = train_test_split(housing.data, housing.target, test_size=0.98, random_state=2)\n",
    "XR, yR = make_regression(n_samples=100, n_features=2, noise=0, random_state=5)\n",
    "X_train2, X_test2, y_train2, y_test2 = train_test_split(XR, yR, test_size=0.20, random_state=2)\n",
    "\n",
    "model = MLPLinearRegressor(X_train2, y_train2, [\n",
    "    Layer(X_train2.shape[1], y_train2.shape[0], neurons=50,activation=tf.nn.relu, i=1),\n",
    "    Layer(X_train2.shape[1], y_train2.shape[0], neurons=50,activation=tf.nn.relu, i=2),\n",
    "    Layer(X_train2.shape[1], y_train2.shape[0], neurons=1,activation=tf.sigmoid, i=3)\n",
    "])\n",
    "model.train(epochs=100, lr=0.001)\n",
    "\n",
    "\n",
    "print(\"MeanSquaredError: \", model.mse.result().numpy())\n",
    "print(\"Accuracy: \", model.acc_rrsse.numpy())\n",
    "print(\"Keras Accuracy: \", model.accuracy.result().numpy())\n",
    "print(\"Keras Precision: \", model.precision.result().numpy())\n",
    "\n",
    "fig, ax = plt.subplots(figsize=(10, 6))\n",
    "ax.scatter(X_train2[:, 0], y_train2[:])\n",
    "ax.scatter(np.linspace(-3, 3, num=model.y_pred.shape[0]), model.y_pred[:])\n",
    "plt.show()\n",
    "\n"
   ]
  },
  {
   "cell_type": "code",
   "execution_count": null,
   "metadata": {},
   "outputs": [],
   "source": []
  }
 ],
 "metadata": {
  "kernelspec": {
   "display_name": "Python 3",
   "language": "python",
   "name": "python3"
  },
  "language_info": {
   "codemirror_mode": {
    "name": "ipython",
    "version": 3
   },
   "file_extension": ".py",
   "mimetype": "text/x-python",
   "name": "python",
   "nbconvert_exporter": "python",
   "pygments_lexer": "ipython3",
   "version": "3.9.7"
  },
  "orig_nbformat": 4,
  "vscode": {
   "interpreter": {
    "hash": "1cce27c8212bf6c5aa96f33a3d1153887721b66c5c8cb9adeaa83cce09196b75"
   }
  }
 },
 "nbformat": 4,
 "nbformat_minor": 2
}
