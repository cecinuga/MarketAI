{
 "cells": [
  {
   "cell_type": "code",
   "execution_count": 33,
   "metadata": {},
   "outputs": [],
   "source": [
    "import numpy as np\n",
    "import tensorflow as tf\n",
    "import matplotlib.pyplot as plt\n",
    "from sklearn.datasets import fetch_california_housing\n",
    "from sklearn.model_selection import train_test_split\n",
    "housing = fetch_california_housing()"
   ]
  },
  {
   "cell_type": "code",
   "execution_count": 47,
   "metadata": {},
   "outputs": [],
   "source": [
    "class LinearRegressor(object):\n",
    "    def __init__(self, lr=0.001):\n",
    "        self.lr = 0.001\n",
    "        self.initialized = False\n",
    "\n",
    "    def initialize(self, X, y):\n",
    "        XN = tf.keras.utils.normalize(X)\n",
    "        self.X = tf.Variable(XN, name=\"X\", dtype=tf.float64)\n",
    "        self.y = tf.Variable(np.array(y).reshape(-1, 1), name=\"y\", dtype=tf.float64)\n",
    "\n",
    "\n",
    "    def train(self):\n",
    "        pass\n",
    "\n",
    "model = LinearRegressor()\n",
    "model.initialize(housing.data, housing.target)\n",
    "model.train()"
   ]
  },
  {
   "cell_type": "code",
   "execution_count": null,
   "metadata": {},
   "outputs": [],
   "source": []
  }
 ],
 "metadata": {
  "kernelspec": {
   "display_name": "Python 3",
   "language": "python",
   "name": "python3"
  },
  "language_info": {
   "codemirror_mode": {
    "name": "ipython",
    "version": 3
   },
   "file_extension": ".py",
   "mimetype": "text/x-python",
   "name": "python",
   "nbconvert_exporter": "python",
   "pygments_lexer": "ipython3",
   "version": "3.9.7"
  },
  "orig_nbformat": 4,
  "vscode": {
   "interpreter": {
    "hash": "1cce27c8212bf6c5aa96f33a3d1153887721b66c5c8cb9adeaa83cce09196b75"
   }
  }
 },
 "nbformat": 4,
 "nbformat_minor": 2
}
